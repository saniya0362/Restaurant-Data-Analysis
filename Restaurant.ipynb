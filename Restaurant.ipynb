{
 "cells": [
  {
   "cell_type": "markdown",
   "id": "28c625f4-e476-45be-8c87-82bc81bf8441",
   "metadata": {},
   "source": [
    "# Restaurant Data Analysis — MySQL to Python Visualization"
   ]
  },
  {
   "cell_type": "markdown",
   "id": "744eb6ab-3b6c-4f42-9600-d505dc0b0be0",
   "metadata": {},
   "source": [
    "### Connect MySQL to Python"
   ]
  },
  {
   "cell_type": "code",
   "execution_count": 1,
   "id": "e85ce3e0-0929-4a1a-8337-97cdfd361dbc",
   "metadata": {},
   "outputs": [],
   "source": [
    "import pandas as pd\n",
    "import matplotlib.pyplot as plt\n",
    "import seaborn as sns\n",
    "import plotly.express as px\n",
    "import mysql.connector\n",
    "\n",
    "# Connect to database\n",
    "db = mysql.connector.connect(\n",
    "    host=\"localhost\",\n",
    "    user=\"root\",\n",
    "    password=\"1234\",\n",
    "    database=\"restaurant_db\"\n",
    ")\n",
    "\n",
    "cur = db.cursor()"
   ]
  },
  {
   "cell_type": "markdown",
   "id": "78f3bad3-345d-4f5d-852f-9ccec1a2cc74",
   "metadata": {},
   "source": [
    "### Top 10 Most Ordered Items. "
   ]
  },
  {
   "cell_type": "code",
   "execution_count": 2,
   "id": "421ff89a-f40a-4db0-8f94-da8e6266f7b3",
   "metadata": {},
   "outputs": [
    {
     "data": {
      "text/html": [
       "<iframe\n",
       "    scrolling=\"no\"\n",
       "    width=\"100%\"\n",
       "    height=\"545px\"\n",
       "    src=\"iframe_figures/figure_2.html\"\n",
       "    frameborder=\"0\"\n",
       "    allowfullscreen\n",
       "></iframe>\n"
      ]
     },
     "metadata": {},
     "output_type": "display_data"
    }
   ],
   "source": [
    "query = \"\"\"\n",
    "SELECT \n",
    "    m.item_name, COUNT(o.order_details_id) AS total_orders\n",
    "FROM\n",
    "    order_details o\n",
    "        JOIN\n",
    "    menu_items m ON o.item_id = m.menu_item_id\n",
    "GROUP BY m.item_name\n",
    "ORDER BY total_orders DESC\n",
    "LIMIT 10;\n",
    "\"\"\"\n",
    "\n",
    "cur.execute(query)\n",
    "\n",
    "data = cur.fetchall()\n",
    "\n",
    "data\n",
    "\n",
    "df = pd.DataFrame(data, columns = ['item_name','total_orders'])\n",
    "df_sorted = df.sort_values(by='total_orders')\n",
    "fig = px.bar(df_sorted, x='total_orders', y='item_name', text = 'total_orders',title= 'Top 10 Most Ordered Items')\n",
    "\n",
    "\n",
    "fig.show('iframe')"
   ]
  },
  {
   "cell_type": "markdown",
   "id": "ee841761-4aac-4f04-acd1-74f0212d1572",
   "metadata": {},
   "source": [
    "### Category with highest number of Menu Items. "
   ]
  },
  {
   "cell_type": "code",
   "execution_count": 3,
   "id": "c93b75d2-01ec-4511-85bc-ee7fdc91efa6",
   "metadata": {},
   "outputs": [
    {
     "data": {
      "text/html": [
       "<iframe\n",
       "    scrolling=\"no\"\n",
       "    width=\"100%\"\n",
       "    height=\"545px\"\n",
       "    src=\"iframe_figures/figure_3.html\"\n",
       "    frameborder=\"0\"\n",
       "    allowfullscreen\n",
       "></iframe>\n"
      ]
     },
     "metadata": {},
     "output_type": "display_data"
    }
   ],
   "source": [
    "query = \"\"\"\n",
    "SELECT \n",
    "    category, COUNT(menu_item_id) AS total_menu_items\n",
    "FROM\n",
    "    menu_items\n",
    "GROUP BY category\n",
    "ORDER BY total_menu_items DESC;\n",
    "\"\"\"\n",
    "\n",
    "cur.execute(query)\n",
    "\n",
    "data = cur.fetchall()\n",
    "\n",
    "data\n",
    "\n",
    "df = pd.DataFrame(data, columns = ['category','total_menu_items'])\n",
    "df_sorted = df.sort_values('total_menu_items', ascending= False)\n",
    "\n",
    "fig = px.bar(df_sorted, x='category', y='total_menu_items', text = 'total_menu_items', orientation= 'v',\n",
    "             title= 'Category with highest number of Menu Items')\n",
    "fig.show('iframe')"
   ]
  },
  {
   "cell_type": "markdown",
   "id": "dfd7a9ad-acc8-4805-bc73-794603eb98b6",
   "metadata": {},
   "source": [
    "### Average Price of Menu Items per Category. "
   ]
  },
  {
   "cell_type": "code",
   "execution_count": 4,
   "id": "66b75013-f612-4cc1-b927-b656707166fc",
   "metadata": {},
   "outputs": [
    {
     "data": {
      "text/html": [
       "<iframe\n",
       "    scrolling=\"no\"\n",
       "    width=\"100%\"\n",
       "    height=\"545px\"\n",
       "    src=\"iframe_figures/figure_4.html\"\n",
       "    frameborder=\"0\"\n",
       "    allowfullscreen\n",
       "></iframe>\n"
      ]
     },
     "metadata": {},
     "output_type": "display_data"
    }
   ],
   "source": [
    "query = \"\"\"\n",
    "SELECT \n",
    "    category, ROUND(AVG(price), 2) AS avg_price\n",
    "FROM\n",
    "    menu_items\n",
    "GROUP BY category;\n",
    "\"\"\"\n",
    "\n",
    "cur.execute(query)\n",
    "\n",
    "data = cur.fetchall()\n",
    "\n",
    "data\n",
    "\n",
    "df = pd.DataFrame(data, columns = ['category','avg_price'])\n",
    "color = ['#2AAA8A','#2E8B57','#4F7942','#008080']\n",
    "fig = px.pie(df, names = 'category', values = 'avg_price', hole = 0.5 ,color_discrete_sequence= color,\n",
    "             title = 'Average Price of Menu Items per Category')\n",
    "\n",
    "fig.update_traces(textinfo='label+ value')\n",
    "\n",
    "fig.show('iframe')"
   ]
  },
  {
   "cell_type": "markdown",
   "id": "78f7e3eb-1e6b-4e1d-ab4f-1a7e3b2b9c18",
   "metadata": {},
   "source": [
    "### Most Orders Day-Wise. "
   ]
  },
  {
   "cell_type": "code",
   "execution_count": 5,
   "id": "10d451ac-e2b4-4c6e-878e-7c91ffc0cd26",
   "metadata": {},
   "outputs": [
    {
     "data": {
      "text/html": [
       "<iframe\n",
       "    scrolling=\"no\"\n",
       "    width=\"100%\"\n",
       "    height=\"545px\"\n",
       "    src=\"iframe_figures/figure_5.html\"\n",
       "    frameborder=\"0\"\n",
       "    allowfullscreen\n",
       "></iframe>\n"
      ]
     },
     "metadata": {},
     "output_type": "display_data"
    }
   ],
   "source": [
    "query = \"\"\"\n",
    "SELECT \n",
    "    DAYNAME(order_date) AS day_name,\n",
    "    COUNT(distinct order_id) AS total_orders\n",
    "FROM\n",
    "    order_details\n",
    "GROUP BY DAYNAME(order_date);\n",
    "\"\"\"\n",
    "\n",
    "cur.execute(query)\n",
    "\n",
    "data = cur.fetchall()\n",
    "\n",
    "data\n",
    "\n",
    "df = pd.DataFrame(data, columns = ['day_name','total_orders'])\n",
    "\n",
    "order = ['Monday','Tuesday','Wednesday','Thursday','Friday','Saturday','Sunday']\n",
    "\n",
    "df['day_name'] = pd.Categorical(df['day_name'], categories=order, ordered=True)\n",
    "df = df.sort_values('day_name')\n",
    "\n",
    "fig = px.bar(df, x='day_name', y=\"total_orders\", text = 'total_orders',title= 'Most Orders Day-Wise')\n",
    "\n",
    "fig.show('iframe')"
   ]
  },
  {
   "cell_type": "markdown",
   "id": "8cb98140-6ad6-4097-a7b3-7944ad2998c6",
   "metadata": {},
   "source": [
    "### Distribution of Orders by Time of Day. "
   ]
  },
  {
   "cell_type": "code",
   "execution_count": 6,
   "id": "8698ceb4-ab84-49b2-9b5e-956e46fa6a31",
   "metadata": {},
   "outputs": [
    {
     "data": {
      "text/html": [
       "<iframe\n",
       "    scrolling=\"no\"\n",
       "    width=\"100%\"\n",
       "    height=\"545px\"\n",
       "    src=\"iframe_figures/figure_6.html\"\n",
       "    frameborder=\"0\"\n",
       "    allowfullscreen\n",
       "></iframe>\n"
      ]
     },
     "metadata": {},
     "output_type": "display_data"
    }
   ],
   "source": [
    "query = \"\"\"\n",
    "SELECT \n",
    "    CASE\n",
    "        WHEN HOUR(order_time) < 12 THEN 'morning'\n",
    "        WHEN HOUR(order_time) < 17 THEN 'afternoon'\n",
    "        WHEN HOUR(order_time) < 20 THEN 'evening'\n",
    "        ELSE 'night'\n",
    "    END AS time_of_day,\n",
    "    count(*) as total_orders\n",
    "FROM\n",
    "    order_details\n",
    "    group by time_of_day;\n",
    "\"\"\"\n",
    "\n",
    "cur.execute(query)\n",
    "\n",
    "data = cur.fetchall()\n",
    "\n",
    "data\n",
    "\n",
    "df = pd.DataFrame(data, columns = ['time_of_day','total_order'])\n",
    "\n",
    "colors = ['#d0e1f9', '#74a9cf', '#2b5788', '#0d1b2a']\n",
    "fig = px.pie(df, names = 'time_of_day', values = 'total_order', color_discrete_sequence= colors, title = 'Distribution of Orders by Time of Day')\n",
    "\n",
    "max_index = df['total_order'].idxmax()  \n",
    "pull_values = [0.2 if i == max_index else 0 for i in range(len(df))]\n",
    "\n",
    "fig.data[0].pull = pull_values\n",
    "fig.update_traces(textinfo='label+value')\n",
    "fig.show('iframe')"
   ]
  },
  {
   "cell_type": "markdown",
   "id": "9f20bc01-4f24-4999-a7e1-d67a5d6fc4bf",
   "metadata": {},
   "source": [
    "### Total Revenue generated per Category"
   ]
  },
  {
   "cell_type": "code",
   "execution_count": 7,
   "id": "a022f2e5-d074-46a7-a5fc-9bd8e7a8a565",
   "metadata": {},
   "outputs": [
    {
     "data": {
      "text/html": [
       "<iframe\n",
       "    scrolling=\"no\"\n",
       "    width=\"100%\"\n",
       "    height=\"545px\"\n",
       "    src=\"iframe_figures/figure_7.html\"\n",
       "    frameborder=\"0\"\n",
       "    allowfullscreen\n",
       "></iframe>\n"
      ]
     },
     "metadata": {},
     "output_type": "display_data"
    }
   ],
   "source": [
    "query = \"\"\"\n",
    "SELECT \n",
    "    m.category, SUM(m.price) AS revenue\n",
    "FROM\n",
    "    menu_items m\n",
    "        JOIN\n",
    "    order_details o ON m.menu_item_id = o.item_id\n",
    "GROUP BY m.category;\n",
    "\"\"\"\n",
    "\n",
    "cur.execute(query)\n",
    "\n",
    "data = cur.fetchall()\n",
    "\n",
    "data\n",
    "\n",
    "df = pd.DataFrame(data, columns = ['category','revenue'])\n",
    "fig = px.bar(df, x='revenue', y='category', text = 'revenue',title= 'Total Revenue generated per Category', orientation= 'h')\n",
    "fig.show('iframe')"
   ]
  },
  {
   "cell_type": "markdown",
   "id": "2f031260-4243-4247-9df4-a8143ae8855e",
   "metadata": {},
   "source": [
    "### Top 5 Menu Items contribute the most to Total Revenue. "
   ]
  },
  {
   "cell_type": "code",
   "execution_count": 8,
   "id": "1b5059d5-e8c1-439f-b859-9c0eb1efc385",
   "metadata": {},
   "outputs": [
    {
     "data": {
      "text/html": [
       "<iframe\n",
       "    scrolling=\"no\"\n",
       "    width=\"100%\"\n",
       "    height=\"545px\"\n",
       "    src=\"iframe_figures/figure_8.html\"\n",
       "    frameborder=\"0\"\n",
       "    allowfullscreen\n",
       "></iframe>\n"
      ]
     },
     "metadata": {},
     "output_type": "display_data"
    }
   ],
   "source": [
    "query = \"\"\"\n",
    "SELECT \n",
    "    m.item_name,\n",
    "    sum(price) as total_revenue\n",
    "FROM\n",
    "    menu_items m\n",
    "        JOIN\n",
    "    order_details o ON m.menu_item_id = o.item_id\n",
    "GROUP BY m.item_name\n",
    "ORDER BY total_revenue DESC\n",
    "LIMIT 5;\n",
    "\"\"\"\n",
    "\n",
    "cur.execute(query)\n",
    "\n",
    "data = cur.fetchall()\n",
    "\n",
    "data\n",
    "\n",
    "df = pd.DataFrame(data, columns = ['item_name','revenue'])\n",
    "fig = px.pie(df, names = 'item_name', values = 'revenue' ,hole = 0.8,title = 'Top 5 Menu Items contribute the most to Total Revenue.')\n",
    "\n",
    "max_index = df['revenue'].idxmax()  \n",
    "pull_values = [0.2 if i == max_index else 0 for i in range(len(df))]\n",
    "\n",
    "fig.data[0].pull = pull_values\n",
    "fig.update_traces(textinfo='label+value')\n",
    "fig.show('iframe')"
   ]
  },
  {
   "cell_type": "markdown",
   "id": "8c72f269-c874-49a5-acd9-bd771fda28eb",
   "metadata": {},
   "source": [
    "### Daily Sales trends for the last 30 days. "
   ]
  },
  {
   "cell_type": "code",
   "execution_count": 9,
   "id": "be39446d-e14f-4c30-a539-3f4b3b9c64d0",
   "metadata": {},
   "outputs": [
    {
     "data": {
      "text/html": [
       "<iframe\n",
       "    scrolling=\"no\"\n",
       "    width=\"100%\"\n",
       "    height=\"545px\"\n",
       "    src=\"iframe_figures/figure_9.html\"\n",
       "    frameborder=\"0\"\n",
       "    allowfullscreen\n",
       "></iframe>\n"
      ]
     },
     "metadata": {},
     "output_type": "display_data"
    }
   ],
   "source": [
    "query = \"\"\"\n",
    "SELECT \n",
    "    order_date, COUNT(order_details_id) AS qty_sold\n",
    "FROM\n",
    "    order_details\n",
    "WHERE order_date >= (\n",
    "SELECT \n",
    "        MAX(order_date) - INTERVAL 30 DAY\n",
    "FROM\n",
    "        order_details)\n",
    "GROUP BY order_date;\n",
    "\"\"\"\n",
    "\n",
    "cur.execute(query)\n",
    "\n",
    "data = cur.fetchall()\n",
    "\n",
    "data\n",
    "\n",
    "df = pd.DataFrame(data, columns = ['order_date','qty_sold'])\n",
    "fig = px.bar(df, x='order_date', y=\"qty_sold\", text = 'qty_sold',title= 'Daily Sales trends for the last 30 days')\n",
    "fig.show('iframe')"
   ]
  },
  {
   "cell_type": "markdown",
   "id": "d825876c-f5f8-422f-900e-81ea32775ff0",
   "metadata": {},
   "source": [
    "### Days of the Week with the Highest Average Revenue."
   ]
  },
  {
   "cell_type": "code",
   "execution_count": 10,
   "id": "8c6c03ec-cd15-4507-838d-4dfe72f0676f",
   "metadata": {},
   "outputs": [
    {
     "data": {
      "text/html": [
       "<iframe\n",
       "    scrolling=\"no\"\n",
       "    width=\"100%\"\n",
       "    height=\"545px\"\n",
       "    src=\"iframe_figures/figure_10.html\"\n",
       "    frameborder=\"0\"\n",
       "    allowfullscreen\n",
       "></iframe>\n"
      ]
     },
     "metadata": {},
     "output_type": "display_data"
    }
   ],
   "source": [
    "query = \"\"\"\n",
    "SELECT \n",
    "    DAYNAME(order_date) AS days,\n",
    "    ROUND(AVG(daily_revenue),2) AS avg_revenue\n",
    "FROM\n",
    "(SELECT \n",
    "    o.order_date, SUM(m.price) AS daily_revenue\n",
    "FROM\n",
    "    order_details o\n",
    "        JOIN\n",
    "    menu_items m ON o.item_id = m.menu_item_id\n",
    "GROUP BY o.order_date\n",
    ") AS daily_revenue\n",
    "GROUP BY days;\n",
    "\"\"\"\n",
    "\n",
    "cur.execute(query)\n",
    "\n",
    "data = cur.fetchall()\n",
    "\n",
    "data\n",
    "\n",
    "df = pd.DataFrame(data, columns = ['days','avg_revenue'])\n",
    "fig = px.line(df, x=\"days\", y=\"avg_revenue\", text = 'avg_revenue' ,title = 'Days of the Week with the Highest Average Revenue')\n",
    "\n",
    "fig.show(renderer=\"iframe\")\n"
   ]
  },
  {
   "cell_type": "markdown",
   "id": "69e393b9-9ace-4f98-8e41-03f138731ef7",
   "metadata": {},
   "source": [
    "### Top-Selling Item for each Category."
   ]
  },
  {
   "cell_type": "code",
   "execution_count": 11,
   "id": "e4e4dce6-0c7e-429a-b6aa-349c263e67da",
   "metadata": {},
   "outputs": [
    {
     "data": {
      "text/html": [
       "<iframe\n",
       "    scrolling=\"no\"\n",
       "    width=\"100%\"\n",
       "    height=\"545px\"\n",
       "    src=\"iframe_figures/figure_11.html\"\n",
       "    frameborder=\"0\"\n",
       "    allowfullscreen\n",
       "></iframe>\n"
      ]
     },
     "metadata": {},
     "output_type": "display_data"
    }
   ],
   "source": [
    "query = \"\"\"\n",
    "WITH data AS (\n",
    "SELECT \n",
    "    m.category, m.item_name, COUNT(o.order_details_id) AS sales,\n",
    "    ROW_NUMBER() OVER (PARTITION BY m.category ORDER BY COUNT(o.order_details_id) DESC) AS ranks\n",
    "FROM\n",
    "    menu_items m\n",
    "        JOIN\n",
    "    order_details o ON m.menu_item_id = o.item_id\n",
    "GROUP BY m.category , m.item_name)\n",
    "\n",
    "SELECT \n",
    "    *\n",
    "FROM\n",
    "    data d\n",
    "WHERE\n",
    "    ranks = 1;\n",
    "\"\"\"\n",
    "\n",
    "cur.execute(query)\n",
    "\n",
    "data = cur.fetchall()\n",
    "\n",
    "data\n",
    "\n",
    "df = pd.DataFrame(data, columns = ['category','item_name','sales','ranks'])\n",
    "df_sorted = df.sort_values(by='sales')\n",
    "\n",
    "\n",
    "fig = px.bar(df_sorted, x='sales', y='item_name', orientation='h', color = 'category', text = 'sales')\n",
    "fig.update_layout(title='Top-Selling Item for each Category.')\n",
    "fig.show(renderer=\"iframe\")"
   ]
  },
  {
   "cell_type": "markdown",
   "id": "d0c91fb7-545e-408f-b1c9-58a427ad355a",
   "metadata": {},
   "source": [
    "### Sales Contribution of Top 3 Menu Items."
   ]
  },
  {
   "cell_type": "code",
   "execution_count": 12,
   "id": "18830d4d-2dc9-404e-ac1b-71b1bb25a5f0",
   "metadata": {},
   "outputs": [
    {
     "data": {
      "text/html": [
       "<iframe\n",
       "    scrolling=\"no\"\n",
       "    width=\"100%\"\n",
       "    height=\"545px\"\n",
       "    src=\"iframe_figures/figure_12.html\"\n",
       "    frameborder=\"0\"\n",
       "    allowfullscreen\n",
       "></iframe>\n"
      ]
     },
     "metadata": {},
     "output_type": "display_data"
    }
   ],
   "source": [
    "query = \"\"\"\n",
    "SELECT \n",
    "    m.item_name,\n",
    "    COUNT(o.order_details_id) AS total_sales,\n",
    "    ROUND((COUNT(o.order_details_id) / (SELECT \n",
    "                    COUNT(order_details_id)\n",
    "                FROM\n",
    "                    order_details)) * 100,\n",
    "            2) AS pct_of_total_sales\n",
    "FROM\n",
    "    order_details o\n",
    "        JOIN\n",
    "    menu_items m ON o.item_id = m.menu_item_id\n",
    "GROUP BY m.item_name\n",
    "ORDER BY total_sales DESC\n",
    "LIMIT 3;\n",
    "\"\"\"\n",
    "\n",
    "cur.execute(query)\n",
    "\n",
    "data = cur.fetchall()\n",
    "\n",
    "data\n",
    "\n",
    "df = pd.DataFrame(data, columns = ['item_name','total_sales','pct_of_total_sales'])\n",
    "\n",
    "fig = px.pie(df, names = 'item_name', values = 'pct_of_total_sales' ,title = 'Sales Contribution of Top 3 Menu Items')\n",
    "\n",
    "fig.update_traces(textinfo='label+ value')\n",
    "\n",
    "fig.show('iframe')"
   ]
  },
  {
   "cell_type": "markdown",
   "id": "52419060-1e65-42d8-b5cf-83e906e37696",
   "metadata": {},
   "source": [
    "###  Top 5 Least Ordered Items. "
   ]
  },
  {
   "cell_type": "code",
   "execution_count": 13,
   "id": "085c2cf1-a20c-43c9-bc5c-def650af4e4c",
   "metadata": {},
   "outputs": [
    {
     "data": {
      "text/html": [
       "<iframe\n",
       "    scrolling=\"no\"\n",
       "    width=\"100%\"\n",
       "    height=\"545px\"\n",
       "    src=\"iframe_figures/figure_13.html\"\n",
       "    frameborder=\"0\"\n",
       "    allowfullscreen\n",
       "></iframe>\n"
      ]
     },
     "metadata": {},
     "output_type": "display_data"
    }
   ],
   "source": [
    "query = \"\"\"\n",
    "SELECT \n",
    "    m.item_name, COUNT(o.order_details_id) AS total_orders\n",
    "FROM\n",
    "    order_details o\n",
    "        JOIN\n",
    "    menu_items m ON o.item_id = m.menu_item_id\n",
    "GROUP BY m.item_name\n",
    "ORDER BY total_orders\n",
    "limit 5;\n",
    "\"\"\"\n",
    "\n",
    "cur.execute(query)\n",
    "\n",
    "data = cur.fetchall()\n",
    "\n",
    "data\n",
    "\n",
    "df = pd.DataFrame(data, columns = ['item_name','total_orders'])\n",
    "fig = px.bar(df, x= 'item_name', y= 'total_orders', text = 'total_orders', title = 'Top 5 Least Ordered Items')\n",
    "fig.show('iframe')"
   ]
  },
  {
   "cell_type": "markdown",
   "id": "a828aba5-76e0-435a-9faf-4a05eb94fc9d",
   "metadata": {},
   "source": [
    "### Top 3 Revenue-Generating Items per Category."
   ]
  },
  {
   "cell_type": "code",
   "execution_count": 14,
   "id": "d935e050-0404-4733-8eb8-fb81bf74d7f3",
   "metadata": {},
   "outputs": [
    {
     "data": {
      "text/html": [
       "<iframe\n",
       "    scrolling=\"no\"\n",
       "    width=\"100%\"\n",
       "    height=\"545px\"\n",
       "    src=\"iframe_figures/figure_14.html\"\n",
       "    frameborder=\"0\"\n",
       "    allowfullscreen\n",
       "></iframe>\n"
      ]
     },
     "metadata": {},
     "output_type": "display_data"
    }
   ],
   "source": [
    "query = \"\"\"\n",
    "WITH revenue_per_item AS (\n",
    "SELECT \n",
    "    m.category,\n",
    "    m.item_name,\n",
    "    SUM(m.price) AS revenue,\n",
    "    DENSE_RANK() OVER (PARTITION BY category ORDER BY SUM(m.price) DESC) AS ranks\n",
    "FROM\n",
    "    menu_items m\n",
    "        JOIN\n",
    "    order_details o ON m.menu_item_id = o.item_id\n",
    "GROUP BY m.category , m.item_name)\n",
    "SELECT \n",
    "    *\n",
    "FROM\n",
    "    revenue_per_item\n",
    "WHERE\n",
    "    ranks <= 3;\n",
    "\"\"\"\n",
    "\n",
    "cur.execute(query)\n",
    "\n",
    "data = cur.fetchall()\n",
    "\n",
    "data\n",
    "\n",
    "df = pd.DataFrame(data, columns = ['category','menu_items','revenue','ranks'])\n",
    "fig = px.bar(df, x= 'menu_items', y= 'revenue', color ='category', text = 'revenue', title = 'Top 3 Revenue-Generating Items per Category')\n",
    "fig.update_xaxes(tickangle=270)\n",
    "fig.show('iframe')"
   ]
  },
  {
   "cell_type": "markdown",
   "id": "90f78660-f61b-4591-a2e9-e8c25949210d",
   "metadata": {},
   "source": [
    "### Peak Revenue Hours. "
   ]
  },
  {
   "cell_type": "code",
   "execution_count": 15,
   "id": "01574871-dd8e-4b7c-94a2-b49cdaca88fa",
   "metadata": {},
   "outputs": [
    {
     "data": {
      "text/html": [
       "<iframe\n",
       "    scrolling=\"no\"\n",
       "    width=\"100%\"\n",
       "    height=\"545px\"\n",
       "    src=\"iframe_figures/figure_15.html\"\n",
       "    frameborder=\"0\"\n",
       "    allowfullscreen\n",
       "></iframe>\n"
      ]
     },
     "metadata": {},
     "output_type": "display_data"
    }
   ],
   "source": [
    "query = \"\"\"\n",
    "SELECT \n",
    "    Hour(o.order_time) AS hours,\n",
    "    COUNT(o.order_details_id) AS sales,\n",
    "    SUM(m.price ) AS revenue\n",
    "FROM\n",
    "    order_details o\n",
    "        JOIN\n",
    "    menu_items m ON o.item_id = m.menu_item_id\n",
    "GROUP BY hours\n",
    "ORDER BY sales DESC;\n",
    "\"\"\"\n",
    "\n",
    "cur.execute(query)\n",
    "\n",
    "data = cur.fetchall()\n",
    "\n",
    "data\n",
    "\n",
    "df = pd.DataFrame(data, columns = ['hours','sales','revenue'])\n",
    "fig = px.scatter(df, x=\"hours\", y=\"revenue\", size=\"sales\", title = 'Peak Revenue Hours')\n",
    "fig.show('iframe')"
   ]
  },
  {
   "cell_type": "markdown",
   "id": "c3215a36-f59b-42ac-90c9-b338a1356a81",
   "metadata": {},
   "source": [
    "### Week-over-Week Revenue Growth"
   ]
  },
  {
   "cell_type": "code",
   "execution_count": 16,
   "id": "c210eafb-3595-4a0e-b8a8-ff128ac5c80d",
   "metadata": {},
   "outputs": [
    {
     "data": {
      "text/html": [
       "<iframe\n",
       "    scrolling=\"no\"\n",
       "    width=\"100%\"\n",
       "    height=\"545px\"\n",
       "    src=\"iframe_figures/figure_16.html\"\n",
       "    frameborder=\"0\"\n",
       "    allowfullscreen\n",
       "></iframe>\n"
      ]
     },
     "metadata": {},
     "output_type": "display_data"
    }
   ],
   "source": [
    "query = \"\"\"\n",
    "WITH weekly_revenue AS( \n",
    "SELECT \n",
    "    WEEK(order_date) AS week,\n",
    "    SUM(m.price) AS cur_week_revenue\n",
    "FROM\n",
    "    order_details o\n",
    "        JOIN\n",
    "    menu_items m ON o.item_id = m.menu_item_id\n",
    "GROUP BY week)\n",
    "\n",
    "SELECT \n",
    "    week,\n",
    "    cur_week_revenue,\n",
    "    LAG(cur_week_revenue) OVER (ORDER BY week) AS prev_week_revenue,\n",
    "    ROUND(((cur_week_revenue - LAG(cur_week_revenue) OVER (ORDER BY week)) /LAG(cur_week_revenue) OVER (ORDER BY week)) * 100,\n",
    "            2) AS WoW_change\n",
    "FROM\n",
    "    weekly_revenue;\n",
    "\"\"\"\n",
    "\n",
    "cur.execute(query)\n",
    "\n",
    "data = cur.fetchall()\n",
    "\n",
    "data\n",
    "\n",
    "df = pd.DataFrame(data, columns = ['week','cur_week_revenue','prev_week_revenue','WoW_change'])\n",
    "fig = px.line(df, x='week', y='WoW_change', text = 'WoW_change',title = 'Week-over-Week Revenue Growth')\n",
    "fig.add_hline(y=0, line_dash=\"dot\", line_color=\"blue\")\n",
    "fig.show(renderer=\"iframe\")"
   ]
  },
  {
   "cell_type": "markdown",
   "id": "d2b2f005-1a65-46a4-8c43-61a21e0a2629",
   "metadata": {},
   "source": [
    "### Identifying Seasonal Items."
   ]
  },
  {
   "cell_type": "code",
   "execution_count": 17,
   "id": "cf2fa0d8-7f81-4a8b-83d1-a377ba9c64a0",
   "metadata": {},
   "outputs": [
    {
     "name": "stdout",
     "output_type": "stream",
     "text": [
      "Empty DataFrame\n",
      "Columns: [item_name, active_months]\n",
      "Index: []\n"
     ]
    }
   ],
   "source": [
    "query = \"\"\"\n",
    "SELECT \n",
    "    m.item_name,\n",
    "    COUNT(DISTINCT MONTH(o.order_date)) AS active_months\n",
    "FROM\n",
    "    menu_items m\n",
    "        JOIN\n",
    "    order_details o ON m.menu_item_id = o.item_id\n",
    "GROUP BY m.item_name\n",
    "HAVING active_months < 3\n",
    "ORDER BY active_months;\n",
    "\"\"\"\n",
    "\n",
    "cur.execute(query)\n",
    "\n",
    "data = cur.fetchall()\n",
    "\n",
    "data\n",
    "\n",
    "df = pd.DataFrame(data, columns = ['item_name','active_months'])\n",
    "print(df)"
   ]
  },
  {
   "cell_type": "markdown",
   "id": "02211470-b97b-46c9-ad30-814addcd103c",
   "metadata": {},
   "source": [
    "### Revenue Contribution: High-Priced vs. Low-Priced Items"
   ]
  },
  {
   "cell_type": "code",
   "execution_count": 18,
   "id": "f43ec3ef-d92b-4e96-bfcc-68bb00f2f8e2",
   "metadata": {},
   "outputs": [
    {
     "data": {
      "application/vnd.plotly.v1+json": {
       "config": {
        "plotlyServerURL": "https://plot.ly"
       },
       "data": [
        {
         "customdata": [
          [
           110228.1
          ],
          [
           48989.8
          ]
         ],
         "hovertemplate": "pct_revenue=%{text}<br>price_type=%{y}<br>revenue=%{customdata[0]}<extra></extra>",
         "legendgroup": "",
         "marker": {
          "color": "#636efa",
          "pattern": {
           "shape": ""
          }
         },
         "name": "",
         "orientation": "h",
         "showlegend": false,
         "text": [
          69.23,
          30.77
         ],
         "textposition": "auto",
         "type": "bar",
         "x": [
          69.23,
          30.77
         ],
         "xaxis": "x",
         "y": [
          "high_price",
          "low_price"
         ],
         "yaxis": "y"
        }
       ],
       "layout": {
        "autosize": true,
        "barmode": "relative",
        "legend": {
         "tracegroupgap": 0
        },
        "margin": {
         "t": 60
        },
        "template": {
         "data": {
          "bar": [
           {
            "error_x": {
             "color": "#2a3f5f"
            },
            "error_y": {
             "color": "#2a3f5f"
            },
            "marker": {
             "line": {
              "color": "#E5ECF6",
              "width": 0.5
             },
             "pattern": {
              "fillmode": "overlay",
              "size": 10,
              "solidity": 0.2
             }
            },
            "type": "bar"
           }
          ],
          "barpolar": [
           {
            "marker": {
             "line": {
              "color": "#E5ECF6",
              "width": 0.5
             },
             "pattern": {
              "fillmode": "overlay",
              "size": 10,
              "solidity": 0.2
             }
            },
            "type": "barpolar"
           }
          ],
          "carpet": [
           {
            "aaxis": {
             "endlinecolor": "#2a3f5f",
             "gridcolor": "white",
             "linecolor": "white",
             "minorgridcolor": "white",
             "startlinecolor": "#2a3f5f"
            },
            "baxis": {
             "endlinecolor": "#2a3f5f",
             "gridcolor": "white",
             "linecolor": "white",
             "minorgridcolor": "white",
             "startlinecolor": "#2a3f5f"
            },
            "type": "carpet"
           }
          ],
          "choropleth": [
           {
            "colorbar": {
             "outlinewidth": 0,
             "ticks": ""
            },
            "type": "choropleth"
           }
          ],
          "contour": [
           {
            "colorbar": {
             "outlinewidth": 0,
             "ticks": ""
            },
            "colorscale": [
             [
              0,
              "#0d0887"
             ],
             [
              0.1111111111111111,
              "#46039f"
             ],
             [
              0.2222222222222222,
              "#7201a8"
             ],
             [
              0.3333333333333333,
              "#9c179e"
             ],
             [
              0.4444444444444444,
              "#bd3786"
             ],
             [
              0.5555555555555556,
              "#d8576b"
             ],
             [
              0.6666666666666666,
              "#ed7953"
             ],
             [
              0.7777777777777778,
              "#fb9f3a"
             ],
             [
              0.8888888888888888,
              "#fdca26"
             ],
             [
              1,
              "#f0f921"
             ]
            ],
            "type": "contour"
           }
          ],
          "contourcarpet": [
           {
            "colorbar": {
             "outlinewidth": 0,
             "ticks": ""
            },
            "type": "contourcarpet"
           }
          ],
          "heatmap": [
           {
            "colorbar": {
             "outlinewidth": 0,
             "ticks": ""
            },
            "colorscale": [
             [
              0,
              "#0d0887"
             ],
             [
              0.1111111111111111,
              "#46039f"
             ],
             [
              0.2222222222222222,
              "#7201a8"
             ],
             [
              0.3333333333333333,
              "#9c179e"
             ],
             [
              0.4444444444444444,
              "#bd3786"
             ],
             [
              0.5555555555555556,
              "#d8576b"
             ],
             [
              0.6666666666666666,
              "#ed7953"
             ],
             [
              0.7777777777777778,
              "#fb9f3a"
             ],
             [
              0.8888888888888888,
              "#fdca26"
             ],
             [
              1,
              "#f0f921"
             ]
            ],
            "type": "heatmap"
           }
          ],
          "histogram": [
           {
            "marker": {
             "pattern": {
              "fillmode": "overlay",
              "size": 10,
              "solidity": 0.2
             }
            },
            "type": "histogram"
           }
          ],
          "histogram2d": [
           {
            "colorbar": {
             "outlinewidth": 0,
             "ticks": ""
            },
            "colorscale": [
             [
              0,
              "#0d0887"
             ],
             [
              0.1111111111111111,
              "#46039f"
             ],
             [
              0.2222222222222222,
              "#7201a8"
             ],
             [
              0.3333333333333333,
              "#9c179e"
             ],
             [
              0.4444444444444444,
              "#bd3786"
             ],
             [
              0.5555555555555556,
              "#d8576b"
             ],
             [
              0.6666666666666666,
              "#ed7953"
             ],
             [
              0.7777777777777778,
              "#fb9f3a"
             ],
             [
              0.8888888888888888,
              "#fdca26"
             ],
             [
              1,
              "#f0f921"
             ]
            ],
            "type": "histogram2d"
           }
          ],
          "histogram2dcontour": [
           {
            "colorbar": {
             "outlinewidth": 0,
             "ticks": ""
            },
            "colorscale": [
             [
              0,
              "#0d0887"
             ],
             [
              0.1111111111111111,
              "#46039f"
             ],
             [
              0.2222222222222222,
              "#7201a8"
             ],
             [
              0.3333333333333333,
              "#9c179e"
             ],
             [
              0.4444444444444444,
              "#bd3786"
             ],
             [
              0.5555555555555556,
              "#d8576b"
             ],
             [
              0.6666666666666666,
              "#ed7953"
             ],
             [
              0.7777777777777778,
              "#fb9f3a"
             ],
             [
              0.8888888888888888,
              "#fdca26"
             ],
             [
              1,
              "#f0f921"
             ]
            ],
            "type": "histogram2dcontour"
           }
          ],
          "mesh3d": [
           {
            "colorbar": {
             "outlinewidth": 0,
             "ticks": ""
            },
            "type": "mesh3d"
           }
          ],
          "parcoords": [
           {
            "line": {
             "colorbar": {
              "outlinewidth": 0,
              "ticks": ""
             }
            },
            "type": "parcoords"
           }
          ],
          "pie": [
           {
            "automargin": true,
            "type": "pie"
           }
          ],
          "scatter": [
           {
            "fillpattern": {
             "fillmode": "overlay",
             "size": 10,
             "solidity": 0.2
            },
            "type": "scatter"
           }
          ],
          "scatter3d": [
           {
            "line": {
             "colorbar": {
              "outlinewidth": 0,
              "ticks": ""
             }
            },
            "marker": {
             "colorbar": {
              "outlinewidth": 0,
              "ticks": ""
             }
            },
            "type": "scatter3d"
           }
          ],
          "scattercarpet": [
           {
            "marker": {
             "colorbar": {
              "outlinewidth": 0,
              "ticks": ""
             }
            },
            "type": "scattercarpet"
           }
          ],
          "scattergeo": [
           {
            "marker": {
             "colorbar": {
              "outlinewidth": 0,
              "ticks": ""
             }
            },
            "type": "scattergeo"
           }
          ],
          "scattergl": [
           {
            "marker": {
             "colorbar": {
              "outlinewidth": 0,
              "ticks": ""
             }
            },
            "type": "scattergl"
           }
          ],
          "scattermap": [
           {
            "marker": {
             "colorbar": {
              "outlinewidth": 0,
              "ticks": ""
             }
            },
            "type": "scattermap"
           }
          ],
          "scattermapbox": [
           {
            "marker": {
             "colorbar": {
              "outlinewidth": 0,
              "ticks": ""
             }
            },
            "type": "scattermapbox"
           }
          ],
          "scatterpolar": [
           {
            "marker": {
             "colorbar": {
              "outlinewidth": 0,
              "ticks": ""
             }
            },
            "type": "scatterpolar"
           }
          ],
          "scatterpolargl": [
           {
            "marker": {
             "colorbar": {
              "outlinewidth": 0,
              "ticks": ""
             }
            },
            "type": "scatterpolargl"
           }
          ],
          "scatterternary": [
           {
            "marker": {
             "colorbar": {
              "outlinewidth": 0,
              "ticks": ""
             }
            },
            "type": "scatterternary"
           }
          ],
          "surface": [
           {
            "colorbar": {
             "outlinewidth": 0,
             "ticks": ""
            },
            "colorscale": [
             [
              0,
              "#0d0887"
             ],
             [
              0.1111111111111111,
              "#46039f"
             ],
             [
              0.2222222222222222,
              "#7201a8"
             ],
             [
              0.3333333333333333,
              "#9c179e"
             ],
             [
              0.4444444444444444,
              "#bd3786"
             ],
             [
              0.5555555555555556,
              "#d8576b"
             ],
             [
              0.6666666666666666,
              "#ed7953"
             ],
             [
              0.7777777777777778,
              "#fb9f3a"
             ],
             [
              0.8888888888888888,
              "#fdca26"
             ],
             [
              1,
              "#f0f921"
             ]
            ],
            "type": "surface"
           }
          ],
          "table": [
           {
            "cells": {
             "fill": {
              "color": "#EBF0F8"
             },
             "line": {
              "color": "white"
             }
            },
            "header": {
             "fill": {
              "color": "#C8D4E3"
             },
             "line": {
              "color": "white"
             }
            },
            "type": "table"
           }
          ]
         },
         "layout": {
          "annotationdefaults": {
           "arrowcolor": "#2a3f5f",
           "arrowhead": 0,
           "arrowwidth": 1
          },
          "autotypenumbers": "strict",
          "coloraxis": {
           "colorbar": {
            "outlinewidth": 0,
            "ticks": ""
           }
          },
          "colorscale": {
           "diverging": [
            [
             0,
             "#8e0152"
            ],
            [
             0.1,
             "#c51b7d"
            ],
            [
             0.2,
             "#de77ae"
            ],
            [
             0.3,
             "#f1b6da"
            ],
            [
             0.4,
             "#fde0ef"
            ],
            [
             0.5,
             "#f7f7f7"
            ],
            [
             0.6,
             "#e6f5d0"
            ],
            [
             0.7,
             "#b8e186"
            ],
            [
             0.8,
             "#7fbc41"
            ],
            [
             0.9,
             "#4d9221"
            ],
            [
             1,
             "#276419"
            ]
           ],
           "sequential": [
            [
             0,
             "#0d0887"
            ],
            [
             0.1111111111111111,
             "#46039f"
            ],
            [
             0.2222222222222222,
             "#7201a8"
            ],
            [
             0.3333333333333333,
             "#9c179e"
            ],
            [
             0.4444444444444444,
             "#bd3786"
            ],
            [
             0.5555555555555556,
             "#d8576b"
            ],
            [
             0.6666666666666666,
             "#ed7953"
            ],
            [
             0.7777777777777778,
             "#fb9f3a"
            ],
            [
             0.8888888888888888,
             "#fdca26"
            ],
            [
             1,
             "#f0f921"
            ]
           ],
           "sequentialminus": [
            [
             0,
             "#0d0887"
            ],
            [
             0.1111111111111111,
             "#46039f"
            ],
            [
             0.2222222222222222,
             "#7201a8"
            ],
            [
             0.3333333333333333,
             "#9c179e"
            ],
            [
             0.4444444444444444,
             "#bd3786"
            ],
            [
             0.5555555555555556,
             "#d8576b"
            ],
            [
             0.6666666666666666,
             "#ed7953"
            ],
            [
             0.7777777777777778,
             "#fb9f3a"
            ],
            [
             0.8888888888888888,
             "#fdca26"
            ],
            [
             1,
             "#f0f921"
            ]
           ]
          },
          "colorway": [
           "#636efa",
           "#EF553B",
           "#00cc96",
           "#ab63fa",
           "#FFA15A",
           "#19d3f3",
           "#FF6692",
           "#B6E880",
           "#FF97FF",
           "#FECB52"
          ],
          "font": {
           "color": "#2a3f5f"
          },
          "geo": {
           "bgcolor": "white",
           "lakecolor": "white",
           "landcolor": "#E5ECF6",
           "showlakes": true,
           "showland": true,
           "subunitcolor": "white"
          },
          "hoverlabel": {
           "align": "left"
          },
          "hovermode": "closest",
          "mapbox": {
           "style": "light"
          },
          "paper_bgcolor": "white",
          "plot_bgcolor": "#E5ECF6",
          "polar": {
           "angularaxis": {
            "gridcolor": "white",
            "linecolor": "white",
            "ticks": ""
           },
           "bgcolor": "#E5ECF6",
           "radialaxis": {
            "gridcolor": "white",
            "linecolor": "white",
            "ticks": ""
           }
          },
          "scene": {
           "xaxis": {
            "backgroundcolor": "#E5ECF6",
            "gridcolor": "white",
            "gridwidth": 2,
            "linecolor": "white",
            "showbackground": true,
            "ticks": "",
            "zerolinecolor": "white"
           },
           "yaxis": {
            "backgroundcolor": "#E5ECF6",
            "gridcolor": "white",
            "gridwidth": 2,
            "linecolor": "white",
            "showbackground": true,
            "ticks": "",
            "zerolinecolor": "white"
           },
           "zaxis": {
            "backgroundcolor": "#E5ECF6",
            "gridcolor": "white",
            "gridwidth": 2,
            "linecolor": "white",
            "showbackground": true,
            "ticks": "",
            "zerolinecolor": "white"
           }
          },
          "shapedefaults": {
           "line": {
            "color": "#2a3f5f"
           }
          },
          "ternary": {
           "aaxis": {
            "gridcolor": "white",
            "linecolor": "white",
            "ticks": ""
           },
           "baxis": {
            "gridcolor": "white",
            "linecolor": "white",
            "ticks": ""
           },
           "bgcolor": "#E5ECF6",
           "caxis": {
            "gridcolor": "white",
            "linecolor": "white",
            "ticks": ""
           }
          },
          "title": {
           "x": 0.05
          },
          "xaxis": {
           "automargin": true,
           "gridcolor": "white",
           "linecolor": "white",
           "ticks": "",
           "title": {
            "standoff": 15
           },
           "zerolinecolor": "white",
           "zerolinewidth": 2
          },
          "yaxis": {
           "automargin": true,
           "gridcolor": "white",
           "linecolor": "white",
           "ticks": "",
           "title": {
            "standoff": 15
           },
           "zerolinecolor": "white",
           "zerolinewidth": 2
          }
         }
        },
        "title": {
         "text": "Revenue Contribution: High-Priced vs. Low-Priced Items"
        },
        "xaxis": {
         "anchor": "y",
         "autorange": true,
         "domain": [
          0,
          1
         ],
         "range": [
          0,
          72.87368421052632
         ],
         "title": {
          "text": "pct_revenue"
         },
         "type": "linear"
        },
        "yaxis": {
         "anchor": "x",
         "autorange": true,
         "domain": [
          0,
          1
         ],
         "range": [
          -0.5,
          1.5
         ],
         "title": {
          "text": "price_type"
         },
         "type": "category"
        }
       }
      }
     },
     "metadata": {},
     "output_type": "display_data"
    }
   ],
   "source": [
    "query = \"\"\"\n",
    "SELECT \n",
    "    CASE\n",
    "        WHEN\n",
    "            m.price > (SELECT \n",
    "                    ROUND(AVG(mi.price), 2)\n",
    "                FROM\n",
    "                    menu_items mi)\n",
    "        THEN\n",
    "            'high_price'\n",
    "        ELSE 'low_price'\n",
    "    END AS price_type,\n",
    "    SUM(m.price) AS revenue,\n",
    "    ROUND((SUM(m.price) / (SELECT \n",
    "                    SUM(price)\n",
    "                FROM\n",
    "                    menu_items mi\n",
    "                        JOIN\n",
    "                    order_details od ON mi.menu_item_id = od.item_id)) * 100,\n",
    "            2) AS pct_revenue\n",
    "FROM\n",
    "    menu_items m\n",
    "        JOIN\n",
    "    order_details o ON m.menu_item_id = o.item_id\n",
    "GROUP BY price_type;\n",
    "\"\"\"\n",
    "\n",
    "cur.execute(query)\n",
    "\n",
    "data = cur.fetchall()\n",
    "\n",
    "data\n",
    "\n",
    "df = pd.DataFrame(data, columns = ['price_type','revenue','pct_revenue'])\n",
    "fig = px.bar(df, x='pct_revenue', y='price_type', orientation='h', hover_data= 'revenue', text = 'pct_revenue')\n",
    "fig.update_layout(title='Revenue Contribution: High-Priced vs. Low-Priced Items')\n",
    "fig.show()"
   ]
  },
  {
   "cell_type": "markdown",
   "id": "298ef022-65fc-4c6b-8da9-c45957bee30f",
   "metadata": {},
   "source": [
    "### Category with the Highest Variability in Daily Sales"
   ]
  },
  {
   "cell_type": "code",
   "execution_count": 19,
   "id": "123e87e1-6768-43d3-b394-f50c785dc8e4",
   "metadata": {},
   "outputs": [
    {
     "data": {
      "application/vnd.plotly.v1+json": {
       "config": {
        "plotlyServerURL": "https://plot.ly"
       },
       "data": [
        {
         "domain": {
          "x": [
           0,
           1
          ],
          "y": [
           0,
           1
          ]
         },
         "hole": 0.8,
         "hovertemplate": "category=%{label}<br>variability=%{value}<extra></extra>",
         "labels": [
          "Asian",
          "Mexican",
          "Italian",
          "American"
         ],
         "legendgroup": "",
         "name": "",
         "showlegend": true,
         "textinfo": "label+value",
         "type": "pie",
         "values": {
          "_inputArray": {
           "0": 7.34,
           "1": 7.21,
           "2": 6.69,
           "3": 6.18,
           "bdata": "XI/C9ShcHUDXo3A9CtccQMP1KFyPwhpAuB6F61G4GEA=",
           "dtype": "f8",
           "shape": "4"
          },
          "bdata": "XI/C9ShcHUDXo3A9CtccQMP1KFyPwhpAuB6F61G4GEA=",
          "dtype": "f8"
         }
        }
       ],
       "layout": {
        "autosize": true,
        "legend": {
         "tracegroupgap": 0
        },
        "template": {
         "data": {
          "bar": [
           {
            "error_x": {
             "color": "#2a3f5f"
            },
            "error_y": {
             "color": "#2a3f5f"
            },
            "marker": {
             "line": {
              "color": "#E5ECF6",
              "width": 0.5
             },
             "pattern": {
              "fillmode": "overlay",
              "size": 10,
              "solidity": 0.2
             }
            },
            "type": "bar"
           }
          ],
          "barpolar": [
           {
            "marker": {
             "line": {
              "color": "#E5ECF6",
              "width": 0.5
             },
             "pattern": {
              "fillmode": "overlay",
              "size": 10,
              "solidity": 0.2
             }
            },
            "type": "barpolar"
           }
          ],
          "carpet": [
           {
            "aaxis": {
             "endlinecolor": "#2a3f5f",
             "gridcolor": "white",
             "linecolor": "white",
             "minorgridcolor": "white",
             "startlinecolor": "#2a3f5f"
            },
            "baxis": {
             "endlinecolor": "#2a3f5f",
             "gridcolor": "white",
             "linecolor": "white",
             "minorgridcolor": "white",
             "startlinecolor": "#2a3f5f"
            },
            "type": "carpet"
           }
          ],
          "choropleth": [
           {
            "colorbar": {
             "outlinewidth": 0,
             "ticks": ""
            },
            "type": "choropleth"
           }
          ],
          "contour": [
           {
            "colorbar": {
             "outlinewidth": 0,
             "ticks": ""
            },
            "colorscale": [
             [
              0,
              "#0d0887"
             ],
             [
              0.1111111111111111,
              "#46039f"
             ],
             [
              0.2222222222222222,
              "#7201a8"
             ],
             [
              0.3333333333333333,
              "#9c179e"
             ],
             [
              0.4444444444444444,
              "#bd3786"
             ],
             [
              0.5555555555555556,
              "#d8576b"
             ],
             [
              0.6666666666666666,
              "#ed7953"
             ],
             [
              0.7777777777777778,
              "#fb9f3a"
             ],
             [
              0.8888888888888888,
              "#fdca26"
             ],
             [
              1,
              "#f0f921"
             ]
            ],
            "type": "contour"
           }
          ],
          "contourcarpet": [
           {
            "colorbar": {
             "outlinewidth": 0,
             "ticks": ""
            },
            "type": "contourcarpet"
           }
          ],
          "heatmap": [
           {
            "colorbar": {
             "outlinewidth": 0,
             "ticks": ""
            },
            "colorscale": [
             [
              0,
              "#0d0887"
             ],
             [
              0.1111111111111111,
              "#46039f"
             ],
             [
              0.2222222222222222,
              "#7201a8"
             ],
             [
              0.3333333333333333,
              "#9c179e"
             ],
             [
              0.4444444444444444,
              "#bd3786"
             ],
             [
              0.5555555555555556,
              "#d8576b"
             ],
             [
              0.6666666666666666,
              "#ed7953"
             ],
             [
              0.7777777777777778,
              "#fb9f3a"
             ],
             [
              0.8888888888888888,
              "#fdca26"
             ],
             [
              1,
              "#f0f921"
             ]
            ],
            "type": "heatmap"
           }
          ],
          "histogram": [
           {
            "marker": {
             "pattern": {
              "fillmode": "overlay",
              "size": 10,
              "solidity": 0.2
             }
            },
            "type": "histogram"
           }
          ],
          "histogram2d": [
           {
            "colorbar": {
             "outlinewidth": 0,
             "ticks": ""
            },
            "colorscale": [
             [
              0,
              "#0d0887"
             ],
             [
              0.1111111111111111,
              "#46039f"
             ],
             [
              0.2222222222222222,
              "#7201a8"
             ],
             [
              0.3333333333333333,
              "#9c179e"
             ],
             [
              0.4444444444444444,
              "#bd3786"
             ],
             [
              0.5555555555555556,
              "#d8576b"
             ],
             [
              0.6666666666666666,
              "#ed7953"
             ],
             [
              0.7777777777777778,
              "#fb9f3a"
             ],
             [
              0.8888888888888888,
              "#fdca26"
             ],
             [
              1,
              "#f0f921"
             ]
            ],
            "type": "histogram2d"
           }
          ],
          "histogram2dcontour": [
           {
            "colorbar": {
             "outlinewidth": 0,
             "ticks": ""
            },
            "colorscale": [
             [
              0,
              "#0d0887"
             ],
             [
              0.1111111111111111,
              "#46039f"
             ],
             [
              0.2222222222222222,
              "#7201a8"
             ],
             [
              0.3333333333333333,
              "#9c179e"
             ],
             [
              0.4444444444444444,
              "#bd3786"
             ],
             [
              0.5555555555555556,
              "#d8576b"
             ],
             [
              0.6666666666666666,
              "#ed7953"
             ],
             [
              0.7777777777777778,
              "#fb9f3a"
             ],
             [
              0.8888888888888888,
              "#fdca26"
             ],
             [
              1,
              "#f0f921"
             ]
            ],
            "type": "histogram2dcontour"
           }
          ],
          "mesh3d": [
           {
            "colorbar": {
             "outlinewidth": 0,
             "ticks": ""
            },
            "type": "mesh3d"
           }
          ],
          "parcoords": [
           {
            "line": {
             "colorbar": {
              "outlinewidth": 0,
              "ticks": ""
             }
            },
            "type": "parcoords"
           }
          ],
          "pie": [
           {
            "automargin": true,
            "type": "pie"
           }
          ],
          "scatter": [
           {
            "fillpattern": {
             "fillmode": "overlay",
             "size": 10,
             "solidity": 0.2
            },
            "type": "scatter"
           }
          ],
          "scatter3d": [
           {
            "line": {
             "colorbar": {
              "outlinewidth": 0,
              "ticks": ""
             }
            },
            "marker": {
             "colorbar": {
              "outlinewidth": 0,
              "ticks": ""
             }
            },
            "type": "scatter3d"
           }
          ],
          "scattercarpet": [
           {
            "marker": {
             "colorbar": {
              "outlinewidth": 0,
              "ticks": ""
             }
            },
            "type": "scattercarpet"
           }
          ],
          "scattergeo": [
           {
            "marker": {
             "colorbar": {
              "outlinewidth": 0,
              "ticks": ""
             }
            },
            "type": "scattergeo"
           }
          ],
          "scattergl": [
           {
            "marker": {
             "colorbar": {
              "outlinewidth": 0,
              "ticks": ""
             }
            },
            "type": "scattergl"
           }
          ],
          "scattermap": [
           {
            "marker": {
             "colorbar": {
              "outlinewidth": 0,
              "ticks": ""
             }
            },
            "type": "scattermap"
           }
          ],
          "scattermapbox": [
           {
            "marker": {
             "colorbar": {
              "outlinewidth": 0,
              "ticks": ""
             }
            },
            "type": "scattermapbox"
           }
          ],
          "scatterpolar": [
           {
            "marker": {
             "colorbar": {
              "outlinewidth": 0,
              "ticks": ""
             }
            },
            "type": "scatterpolar"
           }
          ],
          "scatterpolargl": [
           {
            "marker": {
             "colorbar": {
              "outlinewidth": 0,
              "ticks": ""
             }
            },
            "type": "scatterpolargl"
           }
          ],
          "scatterternary": [
           {
            "marker": {
             "colorbar": {
              "outlinewidth": 0,
              "ticks": ""
             }
            },
            "type": "scatterternary"
           }
          ],
          "surface": [
           {
            "colorbar": {
             "outlinewidth": 0,
             "ticks": ""
            },
            "colorscale": [
             [
              0,
              "#0d0887"
             ],
             [
              0.1111111111111111,
              "#46039f"
             ],
             [
              0.2222222222222222,
              "#7201a8"
             ],
             [
              0.3333333333333333,
              "#9c179e"
             ],
             [
              0.4444444444444444,
              "#bd3786"
             ],
             [
              0.5555555555555556,
              "#d8576b"
             ],
             [
              0.6666666666666666,
              "#ed7953"
             ],
             [
              0.7777777777777778,
              "#fb9f3a"
             ],
             [
              0.8888888888888888,
              "#fdca26"
             ],
             [
              1,
              "#f0f921"
             ]
            ],
            "type": "surface"
           }
          ],
          "table": [
           {
            "cells": {
             "fill": {
              "color": "#EBF0F8"
             },
             "line": {
              "color": "white"
             }
            },
            "header": {
             "fill": {
              "color": "#C8D4E3"
             },
             "line": {
              "color": "white"
             }
            },
            "type": "table"
           }
          ]
         },
         "layout": {
          "annotationdefaults": {
           "arrowcolor": "#2a3f5f",
           "arrowhead": 0,
           "arrowwidth": 1
          },
          "autotypenumbers": "strict",
          "coloraxis": {
           "colorbar": {
            "outlinewidth": 0,
            "ticks": ""
           }
          },
          "colorscale": {
           "diverging": [
            [
             0,
             "#8e0152"
            ],
            [
             0.1,
             "#c51b7d"
            ],
            [
             0.2,
             "#de77ae"
            ],
            [
             0.3,
             "#f1b6da"
            ],
            [
             0.4,
             "#fde0ef"
            ],
            [
             0.5,
             "#f7f7f7"
            ],
            [
             0.6,
             "#e6f5d0"
            ],
            [
             0.7,
             "#b8e186"
            ],
            [
             0.8,
             "#7fbc41"
            ],
            [
             0.9,
             "#4d9221"
            ],
            [
             1,
             "#276419"
            ]
           ],
           "sequential": [
            [
             0,
             "#0d0887"
            ],
            [
             0.1111111111111111,
             "#46039f"
            ],
            [
             0.2222222222222222,
             "#7201a8"
            ],
            [
             0.3333333333333333,
             "#9c179e"
            ],
            [
             0.4444444444444444,
             "#bd3786"
            ],
            [
             0.5555555555555556,
             "#d8576b"
            ],
            [
             0.6666666666666666,
             "#ed7953"
            ],
            [
             0.7777777777777778,
             "#fb9f3a"
            ],
            [
             0.8888888888888888,
             "#fdca26"
            ],
            [
             1,
             "#f0f921"
            ]
           ],
           "sequentialminus": [
            [
             0,
             "#0d0887"
            ],
            [
             0.1111111111111111,
             "#46039f"
            ],
            [
             0.2222222222222222,
             "#7201a8"
            ],
            [
             0.3333333333333333,
             "#9c179e"
            ],
            [
             0.4444444444444444,
             "#bd3786"
            ],
            [
             0.5555555555555556,
             "#d8576b"
            ],
            [
             0.6666666666666666,
             "#ed7953"
            ],
            [
             0.7777777777777778,
             "#fb9f3a"
            ],
            [
             0.8888888888888888,
             "#fdca26"
            ],
            [
             1,
             "#f0f921"
            ]
           ]
          },
          "colorway": [
           "#636efa",
           "#EF553B",
           "#00cc96",
           "#ab63fa",
           "#FFA15A",
           "#19d3f3",
           "#FF6692",
           "#B6E880",
           "#FF97FF",
           "#FECB52"
          ],
          "font": {
           "color": "#2a3f5f"
          },
          "geo": {
           "bgcolor": "white",
           "lakecolor": "white",
           "landcolor": "#E5ECF6",
           "showlakes": true,
           "showland": true,
           "subunitcolor": "white"
          },
          "hoverlabel": {
           "align": "left"
          },
          "hovermode": "closest",
          "mapbox": {
           "style": "light"
          },
          "paper_bgcolor": "white",
          "plot_bgcolor": "#E5ECF6",
          "polar": {
           "angularaxis": {
            "gridcolor": "white",
            "linecolor": "white",
            "ticks": ""
           },
           "bgcolor": "#E5ECF6",
           "radialaxis": {
            "gridcolor": "white",
            "linecolor": "white",
            "ticks": ""
           }
          },
          "scene": {
           "xaxis": {
            "backgroundcolor": "#E5ECF6",
            "gridcolor": "white",
            "gridwidth": 2,
            "linecolor": "white",
            "showbackground": true,
            "ticks": "",
            "zerolinecolor": "white"
           },
           "yaxis": {
            "backgroundcolor": "#E5ECF6",
            "gridcolor": "white",
            "gridwidth": 2,
            "linecolor": "white",
            "showbackground": true,
            "ticks": "",
            "zerolinecolor": "white"
           },
           "zaxis": {
            "backgroundcolor": "#E5ECF6",
            "gridcolor": "white",
            "gridwidth": 2,
            "linecolor": "white",
            "showbackground": true,
            "ticks": "",
            "zerolinecolor": "white"
           }
          },
          "shapedefaults": {
           "line": {
            "color": "#2a3f5f"
           }
          },
          "ternary": {
           "aaxis": {
            "gridcolor": "white",
            "linecolor": "white",
            "ticks": ""
           },
           "baxis": {
            "gridcolor": "white",
            "linecolor": "white",
            "ticks": ""
           },
           "bgcolor": "#E5ECF6",
           "caxis": {
            "gridcolor": "white",
            "linecolor": "white",
            "ticks": ""
           }
          },
          "title": {
           "x": 0.05
          },
          "xaxis": {
           "automargin": true,
           "gridcolor": "white",
           "linecolor": "white",
           "ticks": "",
           "title": {
            "standoff": 15
           },
           "zerolinecolor": "white",
           "zerolinewidth": 2
          },
          "yaxis": {
           "automargin": true,
           "gridcolor": "white",
           "linecolor": "white",
           "ticks": "",
           "title": {
            "standoff": 15
           },
           "zerolinecolor": "white",
           "zerolinewidth": 2
          }
         }
        },
        "title": {
         "text": "Category with the Highest Variability in Daily Sales"
        }
       }
      }
     },
     "metadata": {},
     "output_type": "display_data"
    }
   ],
   "source": [
    "query = \"\"\"\n",
    "SELECT \n",
    "    category, ROUND(STDDEV(daily_sales),2) AS variability\n",
    "FROM\n",
    "    (SELECT \n",
    "        m.category,\n",
    "            o.order_date,\n",
    "            COUNT(o.order_details_id) AS daily_sales\n",
    "    FROM\n",
    "        menu_items m\n",
    "    JOIN order_details o ON m.menu_item_id = o.item_id\n",
    "    GROUP BY m.category , o.order_date) AS d\n",
    "GROUP BY category\n",
    "ORDER BY variability DESC;\n",
    "\"\"\"\n",
    "\n",
    "cur.execute(query)\n",
    "\n",
    "data = cur.fetchall()\n",
    "\n",
    "data\n",
    "\n",
    "df = pd.DataFrame(data, columns = ['category','variability'])\n",
    "fig = px.pie(df, values = 'variability', names = 'category', hole= 0.8, title = 'Category with the Highest Variability in Daily Sales')\n",
    "fig.update_traces(textinfo='label+ value')\n",
    "fig.show()"
   ]
  },
  {
   "cell_type": "markdown",
   "id": "22a6aedc-9854-42c5-aa73-4007268c2922",
   "metadata": {},
   "source": [
    "### Avg. Number of Items per Order. "
   ]
  },
  {
   "cell_type": "code",
   "execution_count": 20,
   "id": "74fe5023-5381-4e8c-9da2-25ed55120edd",
   "metadata": {},
   "outputs": [
    {
     "name": "stdout",
     "output_type": "stream",
     "text": [
      "  avg_busket_size\n",
      "0            2.26\n"
     ]
    }
   ],
   "source": [
    "query = \"\"\"\n",
    "SELECT \n",
    "    ROUND(AVG(item_per_order), 2) AS avg_busket_size\n",
    "FROM\n",
    "    (SELECT DISTINCT\n",
    "        o.order_id, COUNT(o.item_id) AS item_per_order\n",
    "    FROM\n",
    "        order_details o\n",
    "    JOIN menu_items m ON o.item_id = m.menu_item_id\n",
    "    GROUP BY o.order_id) AS data;\n",
    "\"\"\"\n",
    "\n",
    "cur.execute(query)\n",
    "\n",
    "data = cur.fetchall()\n",
    "\n",
    "data\n",
    "\n",
    "df = pd.DataFrame(data, columns = ['avg_busket_size'])\n",
    "print(df)"
   ]
  },
  {
   "cell_type": "markdown",
   "id": "0957b9c1-0346-47cf-b61f-765e89167ce7",
   "metadata": {},
   "source": [
    "### Peak Ordering Periods Across the Week."
   ]
  },
  {
   "cell_type": "code",
   "execution_count": 21,
   "id": "d2f8ddc9-dae1-4c55-96ff-51db0aa8cde2",
   "metadata": {},
   "outputs": [
    {
     "data": {
      "text/html": [
       "<iframe\n",
       "    scrolling=\"no\"\n",
       "    width=\"100%\"\n",
       "    height=\"545px\"\n",
       "    src=\"iframe_figures/figure_21.html\"\n",
       "    frameborder=\"0\"\n",
       "    allowfullscreen\n",
       "></iframe>\n"
      ]
     },
     "metadata": {},
     "output_type": "display_data"
    }
   ],
   "source": [
    "query = \"\"\"\n",
    "SELECT \n",
    "    DAYNAME(o.order_date) AS days,\n",
    "    CASE\n",
    "        WHEN HOUR(order_time) < 12 THEN 'morning'\n",
    "        WHEN HOUR(order_time) < 17 THEN 'afternoon'\n",
    "        WHEN HOUR(order_time) < 20 THEN 'evening'\n",
    "        ELSE 'night'\n",
    "    END AS time_slot,\n",
    "    COUNT(o.order_details_id) AS total_orders\n",
    "FROM\n",
    "    order_details o\n",
    "GROUP BY days , time_slot;\n",
    "\"\"\"\n",
    "\n",
    "cur.execute(query)\n",
    "\n",
    "data = cur.fetchall()\n",
    "\n",
    "data\n",
    "\n",
    "df = pd.DataFrame(data, columns = ['days','time_slot','total_orders'])\n",
    "day_order = ['Monday','Tuesday','Wednesday','Thursday','Friday','Saturday','Sunday']\n",
    "time_order = ['night', 'evening', 'afternoon','morning']\n",
    "heatmap_data = df.pivot(index='time_slot', columns='days', values='total_orders')\n",
    "heatmap_data = heatmap_data.reindex(index=time_order)\n",
    "heatmap_data = heatmap_data.reindex(columns = day_order)\n",
    "\n",
    "# Create heatmap\n",
    "fig = px.imshow(heatmap_data, text_auto=True, color_continuous_scale='Blues', title = 'Peak Ordering Periods Across the Week')\n",
    "\n",
    "fig.show('iframe')"
   ]
  }
 ],
 "metadata": {
  "kernelspec": {
   "display_name": "Python 3 (ipykernel)",
   "language": "python",
   "name": "python3"
  },
  "language_info": {
   "codemirror_mode": {
    "name": "ipython",
    "version": 3
   },
   "file_extension": ".py",
   "mimetype": "text/x-python",
   "name": "python",
   "nbconvert_exporter": "python",
   "pygments_lexer": "ipython3",
   "version": "3.12.6"
  }
 },
 "nbformat": 4,
 "nbformat_minor": 5
}
